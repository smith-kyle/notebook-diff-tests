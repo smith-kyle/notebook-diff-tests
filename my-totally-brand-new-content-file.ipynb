{
 "cells": [
  {
   "cell_type": "markdown",
   "metadata": {},
   "source": [
    "# Behavior schehavior\n",
    "chasta boran"
   ]
  }
 ],
 "metadata": {
  "kernelspec": {
   "display_name": "Python 3.10.0 64-bit ('3.10.0')",
   "language": "python",
   "name": "python3"
  },
  "language_info": {
   "codemirror_mode": {
    "name": "ipython",
    "version": 3
   },
   "file_extension": ".py",
   "mimetype": "text/x-python",
   "name": "python",
   "nbconvert_exporter": "python",
   "pygments_lexer": "ipython3",
   "version": "3.10.0"
  },
  "vscode": {
   "interpreter": {
    "hash": "c52e9f2806fb659ea332fe3dd45d973543437deaf561a2df464a66ae73f5ca4c"
   }
  }
 },
 "nbformat": 4,
 "nbformat_minor": 2
}
