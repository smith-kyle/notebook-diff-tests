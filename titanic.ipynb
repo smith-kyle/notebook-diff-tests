{
  "cells": [
    {
      "attachments": {},
      "cell_type": "markdown",
      "metadata": {},
      "source": [
        "## Titanic 3\n",
        "\n",
        "This is a follow-up PR to test out how comments track changes over time\n",
        "Adding a line up here\n",
        "\n",
        "*Will it work?*\n"
      ]
    },
    {
      "cell_type": "code",
      "execution_count": 43,
      "metadata": {
        "colab": {
          "base_uri": "https://localhost:8080/",
          "height": 295
        },
        "id": "2n1w3XKPQwIa",
        "outputId": "c5acf6bd-64d7-4fdd-da0d-6214e70a3bc3"
      },
      "outputs": [
        {
          "data": {
            "image/png": "[encoded data removed]",
            "text/plain": [
              "<Figure size 432x288 with 1 Axes>"
            ]
          },
          "metadata": {
            "needs_background": "light"
          },
          "output_type": "display_data"
        }
      ],
      "source": [
        "import seaborn as sns\n",
        "import matplotlib.pyplot as plt\n",
        "import matplotlib.pyplot as plt\n",
        "\n",
        "# Load the Titanic dataset\n",
        "titanic = sns.load_dataset('titanic')\n",
        "\n",
        "# Create a countplot of the man/woman/child classification\n",
        "sns.countplot(data=titanic, x='who', hue='alive', palette='Paired')\n",
        "\n",
        "plt.title('Survival Rates by Man/Woman/Child')\n",
        "\n",
        "# Show the plot\n",
        "# and do something else\n",
        "plt.show()"
      ]
    },
    {
      "attachments": {},
      "cell_type": "markdown",
      "metadata": {},
      "source": [
        "## Cell before"
      ]
    },
    {
      "attachments": {},
      "cell_type": "markdown",
      "metadata": {},
      "source": [
        "## Footer\n",
        "\n",
        "\n",
        "```python3\n",
        "a = 1 + 2\n",
        "def add(c, d): return c + d\n",
        "e = add(a, 5)\n",
        "print(e)\n",
        "```\n"
      ]
    }
  ],
  "metadata": {
    "colab": {
      "provenance": []
    },
    "kernelspec": {
      "display_name": "Python 3",
      "name": "python3"
    },
    "language_info": {
      "name": "python"
    }
  },
  "nbformat": 4,
  "nbformat_minor": 0
}
