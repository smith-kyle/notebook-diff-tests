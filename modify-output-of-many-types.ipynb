{
 "cells": [
  {
   "cell_type": "markdown",
   "metadata": {},
   "source": [
    "# Visual Behavior Data Project Cache\n",
    "A short introduction to analyzing the Visual Behavior data.\n",
    "This notebook uses the LIMS API to access data, so it will only work on the Allen Institute network.\n",
    "\n",
    "Please note that local caching functionality has not been implemented, as there are currently no NWB files for these data. Because the data may change over time, whenever a Session object is created through the cache, we note when the data were accessed in a session log."
   ]
  },
  {
   "cell_type": "code",
   "execution_count": 1,
   "metadata": {},
   "outputs": [],
   "source": [
    "import os.path\n",
    "import pandas as pd\n",
    "import SimpleITK as sitk\n",
    "import matplotlib.pyplot as plt\n",
    "from allensdk.brain_observatory.behavior.behavior_project_cache import BehaviorProjectCache\n",
    "from allensdk.brain_observatory.behavior.image_api import ImageApi"
   ]
  },
  {
   "cell_type": "markdown",
   "metadata": {},
   "source": [
    "The `BehaviorProjectCache` is the main entry point to the Visual Behavior project dataset. It allows you to view cross-session summary information and create classes to analyze individual sessions. It supports both behavior-only sessions as well as sessions with behavior and optical physiology recordings."
   ]
  },
  {
   "cell_type": "code",
   "execution_count": 2,
   "metadata": {},
   "outputs": [],
   "source": [
    "# this path determines where the downloaded data will be stored\n",
    "\n",
    "manifest_path = os.path.join(\"example_behavior_project_cache\", \"manifest.json\")\n",
    "\n",
    "cache = BehaviorProjectCache.from_lims(manifest=manifest_path)"
   ]
  },
  {
   "cell_type": "markdown",
   "metadata": {},
   "source": [
    "We can view all session records present in the LIMS database."
   ]
  },
  {
   "cell_type": "code",
   "execution_count": 3,
   "metadata": {},
   "outputs": [
    {
     "name": "stderr",
     "output_type": "stream",
     "text": [
      "Getting all ophys sessions. This might take a while.\n"
     ]
    },
    {
     "data": {
      "text/plain": [
       "array(['VisualBehaviorMultiscope', 'VisualBehavior',\n",
       "       'VisBIntTestDatacube', 'VisualBehaviorTask1B', 'VisBehNeuroModAx',\n",
       "       'MesoscopeDevelopment', 'VisBehViralDev',\n",
       "       'VisualBehaviorMultiscope4areasx2d', 'VisualBehaviorDevelopment',\n",
       "       'VisualBehaviorIntegrationTest', 'DevelopmentMultiscope4areasx2d'],\n",
       "      dtype=object)"
      ]
     },
     "execution_count": 3,
     "metadata": {},
     "output_type": "execute_result"
    }
   ],
   "source": [
    "ophys_sessions = cache.get_session_table()\n",
    "ophys_sessions.head()\n",
    "ophys_sessions.project_code.unique()"
   ]
  },
  {
   "cell_type": "markdown",
   "metadata": {},
   "source": [
    "If we want to get more specific, we can look at all experiment records in the LIMS database. We can then filter down to what we're interested in."
   ]
  },
  {
   "cell_type": "code",
   "execution_count": 4,
   "metadata": {},
   "outputs": [
    {
     "name": "stderr",
     "output_type": "stream",
     "text": [
      "Getting all ophys sessions. This might take a while.\n"
     ]
    },
    {
     "data": {
      "text/html": [
       "<div>\n",
       "<style scoped>\n",
       "    .dataframe tbody tr th:only-of-type {\n",
       "        vertical-align: middle;\n",
       "    }\n",
       "\n",
       "    .dataframe tbody tr th {\n",
       "        vertical-align: top;\n",
       "    }\n",
       "\n",
       "    .dataframe thead th {\n",
       "        text-align: right;\n",
       "    }\n",
       "</style>\n",
       "<table border=\"1\" class=\"dataframe\">\n",
       "  <thead>\n",
       "    <tr style=\"text-align: right;\">\n",
       "      <th></th>\n",
       "      <th>ophys_session_id</th>\n",
       "      <th>behavior_session_id</th>\n",
       "      <th>container_id</th>\n",
       "      <th>project_code</th>\n",
       "      <th>container_workflow_state</th>\n",
       "      <th>experiment_workflow_state</th>\n",
       "      <th>session_name</th>\n",
       "      <th>session_type</th>\n",
       "      <th>equipment_name</th>\n",
       "      <th>date_of_acquisition</th>\n",
       "      <th>isi_experiment_id</th>\n",
       "      <th>specimen_id</th>\n",
       "      <th>sex</th>\n",
       "      <th>age_in_days</th>\n",
       "      <th>full_genotype</th>\n",
       "      <th>reporter_line</th>\n",
       "      <th>driver_line</th>\n",
       "      <th>imaging_depth</th>\n",
       "      <th>targeted_structure</th>\n",
       "      <th>published_at</th>\n",
       "    </tr>\n",
       "    <tr>\n",
       "      <th>ophys_experiment_id</th>\n",
       "      <th></th>\n",
       "      <th></th>\n",
       "      <th></th>\n",
       "      <th></th>\n",
       "      <th></th>\n",
       "      <th></th>\n",
       "      <th></th>\n",
       "      <th></th>\n",
       "      <th></th>\n",
       "      <th></th>\n",
       "      <th></th>\n",
       "      <th></th>\n",
       "      <th></th>\n",
       "      <th></th>\n",
       "      <th></th>\n",
       "      <th></th>\n",
       "      <th></th>\n",
       "      <th></th>\n",
       "      <th></th>\n",
       "      <th></th>\n",
       "    </tr>\n",
       "  </thead>\n",
       "  <tbody>\n",
       "    <tr>\n",
       "      <th>953659749</th>\n",
       "      <td>952430817</td>\n",
       "      <td>952554548</td>\n",
       "      <td>1018028354</td>\n",
       "      <td>VisualBehaviorMultiscope</td>\n",
       "      <td>holding</td>\n",
       "      <td>passed</td>\n",
       "      <td>20190923_457841_2imagesA</td>\n",
       "      <td>OPHYS_2_images_A_passive</td>\n",
       "      <td>MESO.1</td>\n",
       "      <td>2019-09-23 08:13:07.627573</td>\n",
       "      <td>858992726</td>\n",
       "      <td>850862430</td>\n",
       "      <td>F</td>\n",
       "      <td>209.0</td>\n",
       "      <td>Sst-IRES-Cre/wt;Ai148(TIT2L-GC6f-ICL-tTA2)/wt</td>\n",
       "      <td>[Ai148(TIT2L-GC6f-ICL-tTA2)]</td>\n",
       "      <td>[Sst-IRES-Cre]</td>\n",
       "      <td>150</td>\n",
       "      <td>VISl</td>\n",
       "      <td>NaN</td>\n",
       "    </tr>\n",
       "    <tr>\n",
       "      <th>953659752</th>\n",
       "      <td>952430817</td>\n",
       "      <td>952554548</td>\n",
       "      <td>1018028357</td>\n",
       "      <td>VisualBehaviorMultiscope</td>\n",
       "      <td>holding</td>\n",
       "      <td>passed</td>\n",
       "      <td>20190923_457841_2imagesA</td>\n",
       "      <td>OPHYS_2_images_A_passive</td>\n",
       "      <td>MESO.1</td>\n",
       "      <td>2019-09-23 08:13:07.627573</td>\n",
       "      <td>858992726</td>\n",
       "      <td>850862430</td>\n",
       "      <td>F</td>\n",
       "      <td>209.0</td>\n",
       "      <td>Sst-IRES-Cre/wt;Ai148(TIT2L-GC6f-ICL-tTA2)/wt</td>\n",
       "      <td>[Ai148(TIT2L-GC6f-ICL-tTA2)]</td>\n",
       "      <td>[Sst-IRES-Cre]</td>\n",
       "      <td>225</td>\n",
       "      <td>VISl</td>\n",
       "      <td>NaN</td>\n",
       "    </tr>\n",
       "    <tr>\n",
       "      <th>953659754</th>\n",
       "      <td>952430817</td>\n",
       "      <td>952554548</td>\n",
       "      <td>1018028351</td>\n",
       "      <td>VisualBehaviorMultiscope</td>\n",
       "      <td>holding</td>\n",
       "      <td>failed</td>\n",
       "      <td>20190923_457841_2imagesA</td>\n",
       "      <td>OPHYS_2_images_A_passive</td>\n",
       "      <td>MESO.1</td>\n",
       "      <td>2019-09-23 08:13:07.627573</td>\n",
       "      <td>858992726</td>\n",
       "      <td>850862430</td>\n",
       "      <td>F</td>\n",
       "      <td>209.0</td>\n",
       "      <td>Sst-IRES-Cre/wt;Ai148(TIT2L-GC6f-ICL-tTA2)/wt</td>\n",
       "      <td>[Ai148(TIT2L-GC6f-ICL-tTA2)]</td>\n",
       "      <td>[Sst-IRES-Cre]</td>\n",
       "      <td>75</td>\n",
       "      <td>VISl</td>\n",
       "      <td>NaN</td>\n",
       "    </tr>\n",
       "    <tr>\n",
       "      <th>953659756</th>\n",
       "      <td>952430817</td>\n",
       "      <td>952554548</td>\n",
       "      <td>1018028360</td>\n",
       "      <td>VisualBehaviorMultiscope</td>\n",
       "      <td>holding</td>\n",
       "      <td>failed</td>\n",
       "      <td>20190923_457841_2imagesA</td>\n",
       "      <td>OPHYS_2_images_A_passive</td>\n",
       "      <td>MESO.1</td>\n",
       "      <td>2019-09-23 08:13:07.627573</td>\n",
       "      <td>858992726</td>\n",
       "      <td>850862430</td>\n",
       "      <td>F</td>\n",
       "      <td>209.0</td>\n",
       "      <td>Sst-IRES-Cre/wt;Ai148(TIT2L-GC6f-ICL-tTA2)/wt</td>\n",
       "      <td>[Ai148(TIT2L-GC6f-ICL-tTA2)]</td>\n",
       "      <td>[Sst-IRES-Cre]</td>\n",
       "      <td>300</td>\n",
       "      <td>VISl</td>\n",
       "      <td>NaN</td>\n",
       "    </tr>\n",
       "    <tr>\n",
       "      <th>953659743</th>\n",
       "      <td>952430817</td>\n",
       "      <td>952554548</td>\n",
       "      <td>1018028345</td>\n",
       "      <td>VisualBehaviorMultiscope</td>\n",
       "      <td>holding</td>\n",
       "      <td>passed</td>\n",
       "      <td>20190923_457841_2imagesA</td>\n",
       "      <td>OPHYS_2_images_A_passive</td>\n",
       "      <td>MESO.1</td>\n",
       "      <td>2019-09-23 08:13:07.627573</td>\n",
       "      <td>858992726</td>\n",
       "      <td>850862430</td>\n",
       "      <td>F</td>\n",
       "      <td>209.0</td>\n",
       "      <td>Sst-IRES-Cre/wt;Ai148(TIT2L-GC6f-ICL-tTA2)/wt</td>\n",
       "      <td>[Ai148(TIT2L-GC6f-ICL-tTA2)]</td>\n",
       "      <td>[Sst-IRES-Cre]</td>\n",
       "      <td>225</td>\n",
       "      <td>VISp</td>\n",
       "      <td>NaN</td>\n",
       "    </tr>\n",
       "  </tbody>\n",
       "</table>\n",
       "</div>"
      ],
      "text/plain": [
       "                     ophys_session_id  behavior_session_id  container_id  \\\n",
       "ophys_experiment_id                                                        \n",
       "953659749                   952430817            952554548    1018028354   \n",
       "953659752                   952430817            952554548    1018028357   \n",
       "953659754                   952430817            952554548    1018028351   \n",
       "953659756                   952430817            952554548    1018028360   \n",
       "953659743                   952430817            952554548    1018028345   \n",
       "\n",
       "                                 project_code container_workflow_state  \\\n",
       "ophys_experiment_id                                                      \n",
       "953659749            VisualBehaviorMultiscope                  holding   \n",
       "953659752            VisualBehaviorMultiscope                  holding   \n",
       "953659754            VisualBehaviorMultiscope                  holding   \n",
       "953659756            VisualBehaviorMultiscope                  holding   \n",
       "953659743            VisualBehaviorMultiscope                  holding   \n",
       "\n",
       "                    experiment_workflow_state              session_name  \\\n",
       "ophys_experiment_id                                                       \n",
       "953659749                              passed  20190923_457841_2imagesA   \n",
       "953659752                              passed  20190923_457841_2imagesA   \n",
       "953659754                              failed  20190923_457841_2imagesA   \n",
       "953659756                              failed  20190923_457841_2imagesA   \n",
       "953659743                              passed  20190923_457841_2imagesA   \n",
       "\n",
       "                                 session_type equipment_name  \\\n",
       "ophys_experiment_id                                            \n",
       "953659749            OPHYS_2_images_A_passive         MESO.1   \n",
       "953659752            OPHYS_2_images_A_passive         MESO.1   \n",
       "953659754            OPHYS_2_images_A_passive         MESO.1   \n",
       "953659756            OPHYS_2_images_A_passive         MESO.1   \n",
       "953659743            OPHYS_2_images_A_passive         MESO.1   \n",
       "\n",
       "                            date_of_acquisition  isi_experiment_id  \\\n",
       "ophys_experiment_id                                                  \n",
       "953659749            2019-09-23 08:13:07.627573          858992726   \n",
       "953659752            2019-09-23 08:13:07.627573          858992726   \n",
       "953659754            2019-09-23 08:13:07.627573          858992726   \n",
       "953659756            2019-09-23 08:13:07.627573          858992726   \n",
       "953659743            2019-09-23 08:13:07.627573          858992726   \n",
       "\n",
       "                     specimen_id sex  age_in_days  \\\n",
       "ophys_experiment_id                                 \n",
       "953659749              850862430   F        209.0   \n",
       "953659752              850862430   F        209.0   \n",
       "953659754              850862430   F        209.0   \n",
       "953659756              850862430   F        209.0   \n",
       "953659743              850862430   F        209.0   \n",
       "\n",
       "                                                     full_genotype  \\\n",
       "ophys_experiment_id                                                  \n",
       "953659749            Sst-IRES-Cre/wt;Ai148(TIT2L-GC6f-ICL-tTA2)/wt   \n",
       "953659752            Sst-IRES-Cre/wt;Ai148(TIT2L-GC6f-ICL-tTA2)/wt   \n",
       "953659754            Sst-IRES-Cre/wt;Ai148(TIT2L-GC6f-ICL-tTA2)/wt   \n",
       "953659756            Sst-IRES-Cre/wt;Ai148(TIT2L-GC6f-ICL-tTA2)/wt   \n",
       "953659743            Sst-IRES-Cre/wt;Ai148(TIT2L-GC6f-ICL-tTA2)/wt   \n",
       "\n",
       "                                    reporter_line     driver_line  \\\n",
       "ophys_experiment_id                                                 \n",
       "953659749            [Ai148(TIT2L-GC6f-ICL-tTA2)]  [Sst-IRES-Cre]   \n",
       "953659752            [Ai148(TIT2L-GC6f-ICL-tTA2)]  [Sst-IRES-Cre]   \n",
       "953659754            [Ai148(TIT2L-GC6f-ICL-tTA2)]  [Sst-IRES-Cre]   \n",
       "953659756            [Ai148(TIT2L-GC6f-ICL-tTA2)]  [Sst-IRES-Cre]   \n",
       "953659743            [Ai148(TIT2L-GC6f-ICL-tTA2)]  [Sst-IRES-Cre]   \n",
       "\n",
       "                     imaging_depth targeted_structure  published_at  \n",
       "ophys_experiment_id                                                  \n",
       "953659749                      150               VISl           NaN  \n",
       "953659752                      225               VISl           NaN  \n",
       "953659754                       75               VISl           NaN  \n",
       "953659756                      300               VISl           NaN  \n",
       "953659743                      225               VISp           NaN  "
      ]
     },
     "execution_count": 4,
     "metadata": {},
     "output_type": "execute_result"
    }
   ],
   "source": [
    "ophys_experiments = cache.get_experiment_table()\n",
    "ophys_experiments.head()"
   ]
  },
  {
   "cell_type": "markdown",
   "metadata": {},
   "source": [
    "Let's analyze the most recent passed experiment for the Visual Behavior project.\n",
    "\n",
    "Note that the session data will not be downloaded to your local machine. However, the time this ID was last accessed will be recorded in the analysis log (in seconds since epoch)."
   ]
  },
  {
   "cell_type": "code",
   "execution_count": 5,
   "metadata": {},
   "outputs": [
    {
     "name": "stdout",
     "output_type": "stream",
     "text": [
      "Latest experiment id: 1009468153. Acquired on 2020-02-21 16:51:35.000000. Session: OPHYS_7_receptive_field_mapping\n"
     ]
    }
   ],
   "source": [
    "latest = ophys_experiments.query(\"project_code == 'VisualBehavior'\"\n",
    "                        \"& experiment_workflow_state == 'passed'\")\\\n",
    "    .sort_values(\"date_of_acquisition\", ascending=False).iloc[0]\n",
    "\n",
    "print(f\"Latest experiment id: {latest.name}. Acquired on {latest['date_of_acquisition']}. \"\n",
    "      f\"Session: {latest['session_type']}\")\n",
    "    \n",
    "session = cache.get_session_data(latest.name)"
   ]
  },
  {
   "cell_type": "markdown",
   "metadata": {},
   "source": [
    "We can look at metadata about the session:"
   ]
  },
  {
   "cell_type": "code",
   "execution_count": 6,
   "metadata": {},
   "outputs": [
    {
     "name": "stderr",
     "output_type": "stream",
     "text": [
      "/home/kat/code/AllenSDK/allensdk/brain_observatory/sync_dataset.py:109: UserWarning: The loaded sync file contains the following deprecated line label keys: {'cam2_exposure', 'cam1_exposure'}. Consider updating the sync file line labels.\n",
      "  self._check_line_labels()\n",
      "WARNING:root:Could not find valid lines for the following data sources\n",
      "WARNING:root:acquiring (valid line label(s) = ['2p_acquiring']\n"
     ]
    },
    {
     "data": {
      "text/plain": [
       "{'rig_name': 'CAM2P.3',\n",
       " 'sex': 'M',\n",
       " 'age': 'P174',\n",
       " 'excitation_lambda': 910.0,\n",
       " 'emission_lambda': 520.0,\n",
       " 'indicator': 'GCAMP6f',\n",
       " 'field_of_view_width': 452,\n",
       " 'field_of_view_height': 512,\n",
       " 'ophys_experiment_id': 1009468153,\n",
       " 'experiment_container_id': 1006071814,\n",
       " 'ophys_frame_rate': 31.0,\n",
       " 'stimulus_frame_rate': 60.0,\n",
       " 'targeted_structure': 'VISp',\n",
       " 'imaging_depth': 275,\n",
       " 'session_type': 'OPHYS_7_receptive_field_mapping',\n",
       " 'experiment_datetime': Timestamp('2020-02-21 16:51:35+0000', tz='UTC'),\n",
       " 'reporter_line': ['Ai148(TIT2L-GC6f-ICL-tTA2)'],\n",
       " 'driver_line': ['Sst-IRES-Cre'],\n",
       " 'LabTracks_ID': 495789,\n",
       " 'full_genotype': 'Sst-IRES-Cre/wt;Ai148(TIT2L-GC6f-ICL-tTA2)/wt',\n",
       " 'behavior_session_uuid': UUID('f5dcecd6-864d-4a6b-82d3-43f2804d40c8')}"
      ]
     },
     "execution_count": 6,
     "metadata": {},
     "output_type": "execute_result"
    }
   ],
   "source": [
    "session.metadata"
   ]
  },
  {
   "cell_type": "markdown",
   "metadata": {},
   "source": [
    "We can examine 2d images of cells:"
   ]
  },
  {
   "cell_type": "code",
   "execution_count": 7,
   "metadata": {},
   "outputs": [
    {
     "data": {
      "image/png": "[encoded data removed]",
      "text/plain": [
       "<Figure size 432x288 with 3 Axes>"
      ]
     },
     "metadata": {
      "needs_background": "light"
     },
     "output_type": "display_data"
    }
   ],
   "source": [
    "fig, ax = plt.subplots(1, 3)\n",
    "ax[0].imshow(session.max_projection)\n",
    "ax[1].imshow(session.average_projection)\n",
    "ax[2].imshow(session.segmentation_mask_image)\n",
    "plt.show()"
   ]
  },
  {
   "cell_type": "markdown",
   "metadata": {},
   "source": [
    "We can also look at data for behavior-only sessions. These data do not have optical physiology recordings associated with them."
   ]
  },
  {
   "cell_type": "code",
   "execution_count": 8,
   "metadata": {},
   "outputs": [
    {
     "name": "stderr",
     "output_type": "stream",
     "text": [
      "WARNING:BehaviorProjectLimsApi:Getting behavior-only session data. This might take a while...\n"
     ]
    },
    {
     "data": {
      "text/html": [
       "<div>\n",
       "<style scoped>\n",
       "    .dataframe tbody tr th:only-of-type {\n",
       "        vertical-align: middle;\n",
       "    }\n",
       "\n",
       "    .dataframe tbody tr th {\n",
       "        vertical-align: top;\n",
       "    }\n",
       "\n",
       "    .dataframe thead th {\n",
       "        text-align: right;\n",
       "    }\n",
       "</style>\n",
       "<table border=\"1\" class=\"dataframe\">\n",
       "  <thead>\n",
       "    <tr style=\"text-align: right;\">\n",
       "      <th></th>\n",
       "      <th>ophys_session_id</th>\n",
       "      <th>behavior_training_id</th>\n",
       "      <th>equipment_name</th>\n",
       "      <th>donor_id</th>\n",
       "      <th>full_genotype</th>\n",
       "      <th>reporter_line</th>\n",
       "      <th>driver_line</th>\n",
       "      <th>sex</th>\n",
       "      <th>foraging_id</th>\n",
       "      <th>session_type</th>\n",
       "    </tr>\n",
       "    <tr>\n",
       "      <th>behavior_session_id</th>\n",
       "      <th></th>\n",
       "      <th></th>\n",
       "      <th></th>\n",
       "      <th></th>\n",
       "      <th></th>\n",
       "      <th></th>\n",
       "      <th></th>\n",
       "      <th></th>\n",
       "      <th></th>\n",
       "      <th></th>\n",
       "    </tr>\n",
       "  </thead>\n",
       "  <tbody>\n",
       "    <tr>\n",
       "      <th>846710859</th>\n",
       "      <td>846605051.0</td>\n",
       "      <td>NaN</td>\n",
       "      <td>CAM2P.4</td>\n",
       "      <td>814111925</td>\n",
       "      <td>Slc17a7-IRES2-Cre/wt;Camk2a-tTA/wt;Ai94(TITL-G...</td>\n",
       "      <td>[Ai94(TITL-GCaMP6s)]</td>\n",
       "      <td>[Camk2a-tTA, Slc17a7-IRES2-Cre]</td>\n",
       "      <td>F</td>\n",
       "      <td>b183a85b-6a29-4054-9d3c-915a0408a10a</td>\n",
       "      <td>OPHYS_5_images_B_passive</td>\n",
       "    </tr>\n",
       "    <tr>\n",
       "      <th>820627398</th>\n",
       "      <td>NaN</td>\n",
       "      <td>NaN</td>\n",
       "      <td>MESO.1</td>\n",
       "      <td>703198154</td>\n",
       "      <td>Slc17a7-IRES2-Cre/wt;Camk2a-tTA/wt;Ai93(TITL-G...</td>\n",
       "      <td>[Ai93(TITL-GCaMP6f)]</td>\n",
       "      <td>[Camk2a-tTA, Slc17a7-IRES2-Cre]</td>\n",
       "      <td>M</td>\n",
       "      <td>e3bc6a4b-3477-41bc-966b-ef8e3d35b6cd</td>\n",
       "      <td>OPHYS_1_images_A</td>\n",
       "    </tr>\n",
       "    <tr>\n",
       "      <th>767197943</th>\n",
       "      <td>NaN</td>\n",
       "      <td>NaN</td>\n",
       "      <td>CAM2P.3</td>\n",
       "      <td>642238406</td>\n",
       "      <td>Slc17a7-IRES2-Cre/wt;Ai162(TIT2L-GC6s-ICL-tTA2...</td>\n",
       "      <td>[Ai162(TIT2L-GC6s-ICL-tTA2)]</td>\n",
       "      <td>[Slc17a7-IRES2-Cre]</td>\n",
       "      <td>M</td>\n",
       "      <td>7a1d6674-df2c-53e7-ad85-9065a520634d</td>\n",
       "      <td>0_gratings_autorewards_15min</td>\n",
       "    </tr>\n",
       "    <tr>\n",
       "      <th>768638583</th>\n",
       "      <td>768434190.0</td>\n",
       "      <td>NaN</td>\n",
       "      <td>CAM2P.4</td>\n",
       "      <td>703210569</td>\n",
       "      <td>Slc17a7-IRES2-Cre/wt;Camk2a-tTA/wt;Ai93(TITL-G...</td>\n",
       "      <td>[Ai93(TITL-GCaMP6f)]</td>\n",
       "      <td>[Camk2a-tTA, Slc17a7-IRES2-Cre]</td>\n",
       "      <td>F</td>\n",
       "      <td>cf1769ef-623e-4bb9-a698-a82986e91727</td>\n",
       "      <td>5_images_a_ophys</td>\n",
       "    </tr>\n",
       "    <tr>\n",
       "      <th>768879508</th>\n",
       "      <td>NaN</td>\n",
       "      <td>NaN</td>\n",
       "      <td>CAM2P.3</td>\n",
       "      <td>642238406</td>\n",
       "      <td>Slc17a7-IRES2-Cre/wt;Ai162(TIT2L-GC6s-ICL-tTA2...</td>\n",
       "      <td>[Ai162(TIT2L-GC6s-ICL-tTA2)]</td>\n",
       "      <td>[Slc17a7-IRES2-Cre]</td>\n",
       "      <td>M</td>\n",
       "      <td>3e2e0696-70f9-5839-888a-a90668e66a4d</td>\n",
       "      <td>1_gratings</td>\n",
       "    </tr>\n",
       "  </tbody>\n",
       "</table>\n",
       "</div>"
      ],
      "text/plain": [
       "                     ophys_session_id  behavior_training_id equipment_name  \\\n",
       "behavior_session_id                                                          \n",
       "846710859                 846605051.0                   NaN        CAM2P.4   \n",
       "820627398                         NaN                   NaN         MESO.1   \n",
       "767197943                         NaN                   NaN        CAM2P.3   \n",
       "768638583                 768434190.0                   NaN        CAM2P.4   \n",
       "768879508                         NaN                   NaN        CAM2P.3   \n",
       "\n",
       "                      donor_id  \\\n",
       "behavior_session_id              \n",
       "846710859            814111925   \n",
       "820627398            703198154   \n",
       "767197943            642238406   \n",
       "768638583            703210569   \n",
       "768879508            642238406   \n",
       "\n",
       "                                                         full_genotype  \\\n",
       "behavior_session_id                                                      \n",
       "846710859            Slc17a7-IRES2-Cre/wt;Camk2a-tTA/wt;Ai94(TITL-G...   \n",
       "820627398            Slc17a7-IRES2-Cre/wt;Camk2a-tTA/wt;Ai93(TITL-G...   \n",
       "767197943            Slc17a7-IRES2-Cre/wt;Ai162(TIT2L-GC6s-ICL-tTA2...   \n",
       "768638583            Slc17a7-IRES2-Cre/wt;Camk2a-tTA/wt;Ai93(TITL-G...   \n",
       "768879508            Slc17a7-IRES2-Cre/wt;Ai162(TIT2L-GC6s-ICL-tTA2...   \n",
       "\n",
       "                                    reporter_line  \\\n",
       "behavior_session_id                                 \n",
       "846710859                    [Ai94(TITL-GCaMP6s)]   \n",
       "820627398                    [Ai93(TITL-GCaMP6f)]   \n",
       "767197943            [Ai162(TIT2L-GC6s-ICL-tTA2)]   \n",
       "768638583                    [Ai93(TITL-GCaMP6f)]   \n",
       "768879508            [Ai162(TIT2L-GC6s-ICL-tTA2)]   \n",
       "\n",
       "                                         driver_line sex  \\\n",
       "behavior_session_id                                        \n",
       "846710859            [Camk2a-tTA, Slc17a7-IRES2-Cre]   F   \n",
       "820627398            [Camk2a-tTA, Slc17a7-IRES2-Cre]   M   \n",
       "767197943                        [Slc17a7-IRES2-Cre]   M   \n",
       "768638583            [Camk2a-tTA, Slc17a7-IRES2-Cre]   F   \n",
       "768879508                        [Slc17a7-IRES2-Cre]   M   \n",
       "\n",
       "                                              foraging_id  \\\n",
       "behavior_session_id                                         \n",
       "846710859            b183a85b-6a29-4054-9d3c-915a0408a10a   \n",
       "820627398            e3bc6a4b-3477-41bc-966b-ef8e3d35b6cd   \n",
       "767197943            7a1d6674-df2c-53e7-ad85-9065a520634d   \n",
       "768638583            cf1769ef-623e-4bb9-a698-a82986e91727   \n",
       "768879508            3e2e0696-70f9-5839-888a-a90668e66a4d   \n",
       "\n",
       "                                     session_type  \n",
       "behavior_session_id                                \n",
       "846710859                OPHYS_5_images_B_passive  \n",
       "820627398                        OPHYS_1_images_A  \n",
       "767197943            0_gratings_autorewards_15min  \n",
       "768638583                        5_images_a_ophys  \n",
       "768879508                              1_gratings  "
      ]
     },
     "execution_count": 8,
     "metadata": {},
     "output_type": "execute_result"
    }
   ],
   "source": [
    "# get all behavior sessions\n",
    "behavior_sessions = cache.get_behavior_session_table()\n",
    "behavior_sessions.head()"
   ]
  },
  {
   "cell_type": "markdown",
   "metadata": {},
   "source": [
    "Let's take a look at one behavior session.\n",
    "\n",
    "Note that when accessing behavior data using `get_behavior_session_data`, different data sources may be used than when using `get_session_data` for shared attributes. In addition, there may also be some changes to how the data are processed. For example, when examining the stimulus presentations for a behavior session, there is no correction for monitor delay (unlike for ophys sessions). Behavior sessions also use lower temporal resolution lick monitors than ophys sessions.\n",
    "\n",
    "Please see the documentation for additional details."
   ]
  },
  {
   "cell_type": "code",
   "execution_count": 9,
   "metadata": {},
   "outputs": [
    {
     "name": "stdout",
     "output_type": "stream",
     "text": [
      "---- Metadata ----\n",
      "rig_name: CAM2P.4\n",
      "sex: F\n",
      "age: P123\n",
      "ophys_experiment_id: [847241639]\n",
      "experiment_container_id: 876693136\n",
      "stimulus_frame_rate: 60.0\n",
      "session_type: OPHYS_5_images_B_passive\n",
      "experiment_datetime: 2019-04-05 15:57:39.013000+00:00\n",
      "reporter_line: ['Ai94(TITL-GCaMP6s)']\n",
      "driver_line: ['Camk2a-tTA', 'Slc17a7-IRES2-Cre']\n",
      "LabTracks_ID: 442709\n",
      "full_genotype: Slc17a7-IRES2-Cre/wt;Camk2a-tTA/wt;Ai94(TITL-GCaMP6s)/wt\n",
      "behavior_session_uuid: b183a85b-6a29-4054-9d3c-915a0408a10a\n",
      "foraging_id: b183a85b-6a29-4054-9d3c-915a0408a10a\n",
      "behavior_session_id: 846710859\n",
      "behavior_training_id: None\n",
      "------------------\n"
     ]
    },
    {
     "data": {
      "image/png": "[encoded data removed]",
      "text/plain": [
       "<Figure size 432x288 with 1 Axes>"
      ]
     },
     "metadata": {
      "needs_background": "light"
     },
     "output_type": "display_data"
    }
   ],
   "source": [
    "behav_sess = cache.get_behavior_session_data(846710859)\n",
    "\n",
    "print(\"---- Metadata ----\")\n",
    "print(\"\\n\".join([f\"{k}: {v}\" for k, v in behav_sess.metadata.items()]))\n",
    "print(\"------------------\")\n",
    "\n",
    "# Plot the running speed\n",
    "plt.plot(behav_sess.running_speed.timestamps, behav_sess.running_speed.values)\n",
    "_ = plt.xlabel('Time (Second)')\n",
    "_ = plt.ylabel('Speed (cm/Second)')"
   ]
  },
  {
   "cell_type": "markdown",
   "metadata": {},
   "source": [
    "### Memory management\n",
    "Session objects cache certain values to enable faster access, such as time-consuming queries to the LIMS database.\n",
    "In order to prevent issues with running out of memory when working with session objects in a loop, you should use the `cache_clear` method to clear the caches."
   ]
  },
  {
   "cell_type": "code",
   "execution_count": 10,
   "metadata": {},
   "outputs": [
    {
     "name": "stdout",
     "output_type": "stream",
     "text": [
      "Current cache size:\n",
      "1\n",
      "Cache size after clearing: \n",
      "0\n"
     ]
    }
   ],
   "source": [
    "# Example of a cached query\n",
    "# You can look at the cache of any call by invoking `cache_size` on a cached function\n",
    "print(\"Current cache size:\")\n",
    "print(behav_sess.api.get_driver_line.cache_size())\n",
    "# Clear the cache from the session object\n",
    "behav_sess.cache_clear()\n",
    "print(\"Cache size after clearing: \")\n",
    "print(behav_sess.api.get_driver_line.cache_size())"
   ]
  }
 ],
 "metadata": {
  "kernelspec": {
   "display_name": "Python 3.7.6 64-bit ('allensdk-test': conda)",
   "language": "python",
   "name": "python37664bitallensdktestcondafa15a5a5c1dd4566a620e98fd842e963"
  },
  "language_info": {
   "codemirror_mode": {
    "name": "ipython",
    "version": 3
   },
   "file_extension": ".py",
   "mimetype": "text/x-python",
   "name": "python",
   "nbconvert_exporter": "python",
   "pygments_lexer": "ipython3",
   "version": "3.7.6"
  }
 },
 "nbformat": 4,
 "nbformat_minor": 2
}
