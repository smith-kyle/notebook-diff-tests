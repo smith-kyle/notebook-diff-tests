{
 "cells": [
  {
   "cell_type": "markdown",
   "metadata": {},
   "source": [
    "> ## This is a changed header.\n",
    "> \n",
    "> 1.   This is the first list **element**.\n",
    "> 1.   A new item added to the list\n",
    "> 1.   This is the `third list` __item__.\n",
    "> 1.   This is the fourth list item\n",
    "> \n",
    "> Here's some example [changed code](https://google.com/images):\n",
    ">     \n",
    "\n",
    "***\n",
    "\n",
    "```javascript\n",
    "export const sub = (a, b) => a - b;\n",
    "```\n",
    "<h4>Inline HTML</h4>\n",
    "<table>\n",
    "    <tr>\n",
    "        <td>Foo</td>\n",
    "        <td>Bar</td>\n",
    "        <td>Baz</td>\n",
    "    </tr>\n",
    "</table>\n",
    "\n",
    "I get 10 times more traffic from [Google] [1] than from\n",
    "[Yahoo] [2] or [MSN] [3].\n",
    "\n",
    "\n",
    "  [1]: http://google.com/images        \"Google\"\n",
    "  [2]: http://search.yahoo.com/  \"Yahoo Search\"\n",
    "  [3]: https://www.msn.com/    \"MSN Search\""
   ]
  },
  {
   "cell_type": "markdown",
   "metadata": {},
   "source": [
    "# Changed Heading 1\n",
    "#### Heading 2\n",
    "#### Heading 4"
   ]
  },
  {
   "cell_type": "markdown",
   "metadata": {},
   "source": [
    "> Donec sit amet nisl. Aliquam semper ipsum sit amet velit. Suspendisse\n",
    "> id sem consectetuer libero luctus adipiscing.\n",
    "> This is a blockquote with two paragraphs. Lorem ipsum dolor sit amet,\n",
    "> consectetuer adipiscing elit. Aliquam hendrerit mi posuere lectus.\n",
    "> and a newly added line\n",
    "> Vestibulum enim wisi, Vestibulum enim wisi, fringilla in, laoreet vitae, risus.\n",
    "> \n",
    "> Donec sit amet nisl. Aliquam semper ipsum sit amet velit. Suspendisse\n",
    "> id sem consectetuer libero luctus adipiscing."
   ]
  },
  {
   "cell_type": "markdown",
   "metadata": {},
   "source": [
    "> This is a blockquote with two paragraphs. Lorem ipsum dolor sit amet,\n",
    "consectetuer adipiscing elit. Aliquam hendrerit mi posuere lectus.\n",
    "Vestibulum enim wisi, viverra nec, fringilla in, laoreet vitae, risus.\n",
    "\n",
    "> Donec sit amet nisl. Aliquam semper ipsum sit amet velit. Suspendisse\n",
    "id sem consectetuer libero luctus adipiscing.\n",
    "id sem consectetuer libero luctus adipiscing."
   ]
  },
  {
   "cell_type": "markdown",
   "metadata": {},
   "source": [
    "> This is the first level of quoting.\n",
    ">\n",
    "> > This is nested and changed blockquote.\n",
    ">\n",
    "> Back to the first level.\n",
    "> > This is nested and changed blockquote."
   ]
  },
  {
   "cell_type": "markdown",
   "metadata": {},
   "source": [
    "> #### This is a changed header.\n",
    "> \n",
    "> 1.   This is the first list item.\n",
    "> 2.   This is the second list item.\n",
    "> 3.   This is the third list item.\n",
    "> \n",
    "> Here's some example code:\n",
    "> \n",
    ">     return shell_exec(\"echo 'changed'\");"
   ]
  },
  {
   "cell_type": "markdown",
   "metadata": {},
   "source": [
    "*   Red\n",
    "    * Apples\n",
    "        * Granny smith\n",
    "        * Honeycrisp\n",
    "    * Raspberry\n",
    "*  Azure\n",
    "    * Blueberries\n",
    "    * Elderberries"
   ]
  },
  {
   "cell_type": "markdown",
   "metadata": {},
   "source": [
    "1.  Bird\n",
    "1.  McHale\n",
    "1.  Parish"
   ]
  },
  {
   "cell_type": "markdown",
   "metadata": {},
   "source": [
    "1.  This is a list item with two paragraphs. Lorem ipsum dolor\n",
    "    sit amet, consectetuer adipiscing elit. Aliquam hendrerit\n",
    "    mi posuere lectus.\n",
    "\n",
    "    Vestibulum enim wisi, viverra nec, fringilla in, laoreet\n",
    "    vitae, risus. Donec sit amet nisl. Aliquam semper ipsum\n",
    "    sit amet velit.\n",
    "\n",
    "2.  Suspendisse id sem consectetuer libero luctus adipiscing."
   ]
  },
  {
   "cell_type": "markdown",
   "metadata": {},
   "source": [
    "*   A list item with a blockquote:\n",
    "\n",
    "    > This is a blockquote\n",
    "    > inside a list item.\n",
    "*   `Another` item"
   ]
  },
  {
   "cell_type": "markdown",
   "metadata": {},
   "source": [
    "1986\\. What a great diff."
   ]
  },
  {
   "cell_type": "markdown",
   "metadata": {},
   "source": [
    "This is a single paragraph\n",
    "that has some line breaks in it\n",
    "and an added line\n",
    "to test the diff"
   ]
  },
  {
   "cell_type": "markdown",
   "metadata": {},
   "source": [
    "This is a normal paragraph:\n",
    "\n",
    "    This is a code block."
   ]
  },
  {
   "cell_type": "markdown",
   "metadata": {},
   "source": [
    "Here is an example of AppleScript:\n",
    "\n",
    "    tell application \"Foo\"\n",
    "        beep\n",
    "        beep\n",
    "    end tell"
   ]
  },
  {
   "cell_type": "markdown",
   "metadata": {},
   "source": [
    "* * *\n",
    "\n",
    "Added some\n",
    "\n",
    "***\n",
    "\n",
    "Text\n",
    "\n",
    "---------------------------------------\n",
    "\n",
    "Between horizontal lines"
   ]
  },
  {
   "cell_type": "markdown",
   "metadata": {},
   "source": [
    "This is [an example](http://example.com/ \"A new title\") inline link.\n",
    "\n",
    "[This link](http://example.net/ \"Title\") has a new title attribute."
   ]
  },
  {
   "cell_type": "markdown",
   "metadata": {},
   "source": [
    "See my About page for details.  "
   ]
  },
  {
   "cell_type": "markdown",
   "metadata": {},
   "source": [
    "I get 10 times more traffic from [Google] [1] than from\n",
    "[Yahoo] [2] or [MSN] [3].\n",
    "\n",
    "\n",
    "  [1]: http://google.com/        \"Google\"\n",
    "  [2]: http://search.yahoo.com/  \"Yahoo Search\"\n",
    "  [3]: http://search.msn.com/    \"MSN Search\""
   ]
  },
  {
   "cell_type": "markdown",
   "metadata": {},
   "source": [
    "**double asterisks**\n",
    "\n",
    "__double underscores__\n",
    "\n",
    "*single asterisks*\n",
    "\n",
    "_single underscores_"
   ]
  },
  {
   "cell_type": "markdown",
   "metadata": {},
   "source": [
    "unfriggingbelievable"
   ]
  },
  {
   "cell_type": "markdown",
   "metadata": {},
   "source": [
    "\\*\\*this text is surrounded by literal double asterisks\\*\\*"
   ]
  },
  {
   "cell_type": "markdown",
   "metadata": {},
   "source": [
    "Use the `print()` function."
   ]
  },
  {
   "cell_type": "markdown",
   "metadata": {},
   "source": [
    "> A single backtick in a code span: `` ` ``\n",
    "\n",
    "> A backtick-delimited string in a code span: `` `foo` ``"
   ]
  },
  {
   "cell_type": "markdown",
   "metadata": {},
   "source": [
    "Please don't use any `<blink></blink>` tags."
   ]
  },
  {
   "cell_type": "markdown",
   "metadata": {},
   "source": [
    "This is a regular paragraph followed by some inline HTML\n",
    "\n",
    "<table>\n",
    "    <tr>\n",
    "        <td>Bar</td>\n",
    "        <td>Foo</td>\n",
    "        <td>Baz</td>\n",
    "    </tr>\n",
    "</table>\n",
    "\n",
    "This is another regular paragraph."
   ]
  },
  {
   "cell_type": "markdown",
   "metadata": {},
   "source": [
    "$e^{i\\pi} = -1$"
   ]
  },
  {
   "cell_type": "markdown",
   "metadata": {},
   "source": [
    "\\begin{equation}\n",
    "e^x=\\sum_{i=1}^\\infty \\frac{1}{(i - 1)!}x^{i - 1}\n",
    "\\end{equation}"
   ]
  },
  {
   "cell_type": "markdown",
   "metadata": {},
   "source": [
    "```python\n",
    "print('Hello World')\n",
    "```\n",
    "\n",
    "```javascript\n",
    "console.log(\"Hello World diff\")\n",
    "```"
   ]
  },
  {
   "cell_type": "markdown",
   "metadata": {},
   "source": [
    "| This | is   | a |\n",
    "|------|------|-----|\n",
    "|   github | formatted | table|"
   ]
  }
 ],
 "metadata": {
  "language_info": {
   "name": "python"
  }
 },
 "nbformat": 4,
 "nbformat_minor": 2
}
